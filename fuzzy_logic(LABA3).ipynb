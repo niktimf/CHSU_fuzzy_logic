{
 "cells": [
  {
   "cell_type": "markdown",
   "source": [
    "# Лабораторная работа 3. Моделирование экономических процессов и явлений с помощью аппарата нечетких множеств. Вариант 2"
   ],
   "metadata": {
    "collapsed": false,
    "pycharm": {
     "name": "#%% md\n"
    }
   }
  },
  {
   "cell_type": "markdown",
   "source": [
    "## Разбор примера"
   ],
   "metadata": {
    "collapsed": false,
    "pycharm": {
     "name": "#%% md\n"
    }
   }
  },
  {
   "cell_type": "code",
   "execution_count": 18,
   "outputs": [
    {
     "data": {
      "text/plain": "   t      R(t)  d0(t)     R1(t)     R2(t)     d1     d2        L1         L  \\\n0  0  0.000000   0.77  0.000000  0.000000  0.716  0.816  0.000000  0.000000   \n1  1  0.042376   0.62  0.038442  0.046866  0.596  0.696  0.022270  0.055173   \n2  2  0.159031   0.54  0.145125  0.174693  0.532  0.632  0.075045  0.180341   \n3  3  0.322740   0.50  0.297282  0.350791  0.500  0.600  0.144479  0.338877   \n4  4  0.499826   0.58  0.465915  0.536060  0.564  0.664  0.255418  0.608789   \n5  5  0.661252   0.65  0.624689  0.698806  0.620  0.720  0.376463  0.902610   \n6  6  0.789612   0.65  0.756150  0.822361  0.620  0.720  0.455686  1.077820   \n7  7  0.880172   0.73  0.853510  0.904821  0.684  0.784  0.567455  1.349304   \n8  8  0.937413   0.85  0.918634  0.953672  0.780  0.880  0.696472  1.673282   \n\n         L2  \n0  0.000000  \n1  0.095586  \n2  0.323534  \n3  0.616774  \n4  1.043058  \n5  1.474402  \n6  1.735089  \n7  2.078767  \n8  2.459283  ",
      "text/html": "<div>\n<style scoped>\n    .dataframe tbody tr th:only-of-type {\n        vertical-align: middle;\n    }\n\n    .dataframe tbody tr th {\n        vertical-align: top;\n    }\n\n    .dataframe thead th {\n        text-align: right;\n    }\n</style>\n<table border=\"1\" class=\"dataframe\">\n  <thead>\n    <tr style=\"text-align: right;\">\n      <th></th>\n      <th>t</th>\n      <th>R(t)</th>\n      <th>d0(t)</th>\n      <th>R1(t)</th>\n      <th>R2(t)</th>\n      <th>d1</th>\n      <th>d2</th>\n      <th>L1</th>\n      <th>L</th>\n      <th>L2</th>\n    </tr>\n  </thead>\n  <tbody>\n    <tr>\n      <th>0</th>\n      <td>0</td>\n      <td>0.000000</td>\n      <td>0.77</td>\n      <td>0.000000</td>\n      <td>0.000000</td>\n      <td>0.716</td>\n      <td>0.816</td>\n      <td>0.000000</td>\n      <td>0.000000</td>\n      <td>0.000000</td>\n    </tr>\n    <tr>\n      <th>1</th>\n      <td>1</td>\n      <td>0.042376</td>\n      <td>0.62</td>\n      <td>0.038442</td>\n      <td>0.046866</td>\n      <td>0.596</td>\n      <td>0.696</td>\n      <td>0.022270</td>\n      <td>0.055173</td>\n      <td>0.095586</td>\n    </tr>\n    <tr>\n      <th>2</th>\n      <td>2</td>\n      <td>0.159031</td>\n      <td>0.54</td>\n      <td>0.145125</td>\n      <td>0.174693</td>\n      <td>0.532</td>\n      <td>0.632</td>\n      <td>0.075045</td>\n      <td>0.180341</td>\n      <td>0.323534</td>\n    </tr>\n    <tr>\n      <th>3</th>\n      <td>3</td>\n      <td>0.322740</td>\n      <td>0.50</td>\n      <td>0.297282</td>\n      <td>0.350791</td>\n      <td>0.500</td>\n      <td>0.600</td>\n      <td>0.144479</td>\n      <td>0.338877</td>\n      <td>0.616774</td>\n    </tr>\n    <tr>\n      <th>4</th>\n      <td>4</td>\n      <td>0.499826</td>\n      <td>0.58</td>\n      <td>0.465915</td>\n      <td>0.536060</td>\n      <td>0.564</td>\n      <td>0.664</td>\n      <td>0.255418</td>\n      <td>0.608789</td>\n      <td>1.043058</td>\n    </tr>\n    <tr>\n      <th>5</th>\n      <td>5</td>\n      <td>0.661252</td>\n      <td>0.65</td>\n      <td>0.624689</td>\n      <td>0.698806</td>\n      <td>0.620</td>\n      <td>0.720</td>\n      <td>0.376463</td>\n      <td>0.902610</td>\n      <td>1.474402</td>\n    </tr>\n    <tr>\n      <th>6</th>\n      <td>6</td>\n      <td>0.789612</td>\n      <td>0.65</td>\n      <td>0.756150</td>\n      <td>0.822361</td>\n      <td>0.620</td>\n      <td>0.720</td>\n      <td>0.455686</td>\n      <td>1.077820</td>\n      <td>1.735089</td>\n    </tr>\n    <tr>\n      <th>7</th>\n      <td>7</td>\n      <td>0.880172</td>\n      <td>0.73</td>\n      <td>0.853510</td>\n      <td>0.904821</td>\n      <td>0.684</td>\n      <td>0.784</td>\n      <td>0.567455</td>\n      <td>1.349304</td>\n      <td>2.078767</td>\n    </tr>\n    <tr>\n      <th>8</th>\n      <td>8</td>\n      <td>0.937413</td>\n      <td>0.85</td>\n      <td>0.918634</td>\n      <td>0.953672</td>\n      <td>0.780</td>\n      <td>0.880</td>\n      <td>0.696472</td>\n      <td>1.673282</td>\n      <td>2.459283</td>\n    </tr>\n  </tbody>\n</table>\n</div>"
     },
     "execution_count": 18,
     "metadata": {},
     "output_type": "execute_result"
    }
   ],
   "source": [
    "from math import log\n",
    "from math import exp\n",
    "\n",
    "import pandas as pd\n",
    "\n",
    "Fmax = 3\n",
    "jmax = 0.7\n",
    "t05 = 4\n",
    "alpha = 0.8\n",
    "b = t05 / log(2) ** 0.5\n",
    "\n",
    "\n",
    "columns = {'1': '-', '2': '-', '3': '-', '4': 0, '5': 1, '6': 2, '7': 3, '8': 4,'9': 5,'10': 6,'11': 7,'12': 8},\\\n",
    "          {'1': 1, '2': 2, '3': 3, '4': 4, '5': 5, '6': 6, '7': 7, '8': 8,'9': 9,'10': 10,'11': 11,'12': 12},\\\n",
    "          {'1': 0.92, '2': 0.85, '3': 1, '4': 0.77, '5': 0.62, '6': 0.54, '7': 0.50, '8': 0.58,'9': 0.65,'10': 0.65,'11': 0.73,'12': 0.85}\n",
    "\n",
    "data_frame1 = pd.DataFrame(columns, index=['t','Месяц', 'd0(t)'])\n",
    "\n",
    "data_frame2 = pd.DataFrame(columns=['Промежуток'], index=['Fmax'])\n",
    "\n",
    "data_frame2.loc['Fmax'] = [[0.5 * Fmax, 1.5 * Fmax]]\n",
    "data_frame2.loc['jmax'] = [[round(0.7 * jmax, 1), round(1.3 * jmax, 1)]]\n",
    "data_frame2.loc['t05'] = [[0.75 * t05, 1.25 * t05]]\n",
    "data_frame2.loc['d(t)'] = [[data_frame1.loc['d0(t)'].min(), data_frame1.loc['d0(t)'].max()]]\n",
    "\n",
    "data_frame3 = pd.DataFrame({'t': range(9),'R(t)': list(map(lambda x: 1 - exp(-0.0433 * x ** 2), range(9))), 'd0(t)': [0.77, 0.62, 0.54, 0.50, 0.58, 0.65, 0.65, 0.73, 0.85],\n",
    "                           'R1(t)': list(map(lambda x: 1 - exp(-0.0392 * x ** 2), range(9))), 'R2(t)': list(map(lambda x: 1 - exp(-0.0480 * x ** 2), range(9)))})\n",
    "\n",
    "data_frame3['d1'] = data_frame3.get('d0(t)') * 0.8 + 0.1\n",
    "data_frame3['d2'] = data_frame3.get('d0(t)') * 0.8 + 0.2\n",
    "data_frame3['L1'] = 0.9720 * data_frame3.get('d1') * data_frame3.get('R1(t)')\n",
    "data_frame3['L'] = Fmax * jmax * data_frame3.get('d0(t)') * data_frame3.get('R(t)')\n",
    "data_frame3['L2'] = 2.9304 * data_frame3.get('d2') * data_frame3.get('R2(t)')"
   ],
   "metadata": {
    "collapsed": false,
    "pycharm": {
     "name": "#%%\n"
    }
   }
  },
  {
   "cell_type": "code",
   "execution_count": 19,
   "outputs": [
    {
     "data": {
      "text/plain": "          1     2  3     4     5     6    7     8     9     10     11     12\nt         -     -  -  0.00  1.00  2.00  3.0  4.00  5.00   6.00   7.00   8.00\nМесяц     1     2  3  4.00  5.00  6.00  7.0  8.00  9.00  10.00  11.00  12.00\nd0(t)  0.92  0.85  1  0.77  0.62  0.54  0.5  0.58  0.65   0.65   0.73   0.85",
      "text/html": "<div>\n<style scoped>\n    .dataframe tbody tr th:only-of-type {\n        vertical-align: middle;\n    }\n\n    .dataframe tbody tr th {\n        vertical-align: top;\n    }\n\n    .dataframe thead th {\n        text-align: right;\n    }\n</style>\n<table border=\"1\" class=\"dataframe\">\n  <thead>\n    <tr style=\"text-align: right;\">\n      <th></th>\n      <th>1</th>\n      <th>2</th>\n      <th>3</th>\n      <th>4</th>\n      <th>5</th>\n      <th>6</th>\n      <th>7</th>\n      <th>8</th>\n      <th>9</th>\n      <th>10</th>\n      <th>11</th>\n      <th>12</th>\n    </tr>\n  </thead>\n  <tbody>\n    <tr>\n      <th>t</th>\n      <td>-</td>\n      <td>-</td>\n      <td>-</td>\n      <td>0.00</td>\n      <td>1.00</td>\n      <td>2.00</td>\n      <td>3.0</td>\n      <td>4.00</td>\n      <td>5.00</td>\n      <td>6.00</td>\n      <td>7.00</td>\n      <td>8.00</td>\n    </tr>\n    <tr>\n      <th>Месяц</th>\n      <td>1</td>\n      <td>2</td>\n      <td>3</td>\n      <td>4.00</td>\n      <td>5.00</td>\n      <td>6.00</td>\n      <td>7.0</td>\n      <td>8.00</td>\n      <td>9.00</td>\n      <td>10.00</td>\n      <td>11.00</td>\n      <td>12.00</td>\n    </tr>\n    <tr>\n      <th>d0(t)</th>\n      <td>0.92</td>\n      <td>0.85</td>\n      <td>1</td>\n      <td>0.77</td>\n      <td>0.62</td>\n      <td>0.54</td>\n      <td>0.5</td>\n      <td>0.58</td>\n      <td>0.65</td>\n      <td>0.65</td>\n      <td>0.73</td>\n      <td>0.85</td>\n    </tr>\n  </tbody>\n</table>\n</div>"
     },
     "execution_count": 19,
     "metadata": {},
     "output_type": "execute_result"
    }
   ],
   "source": [
    "data_frame1"
   ],
   "metadata": {
    "collapsed": false,
    "pycharm": {
     "name": "#%%\n"
    }
   }
  },
  {
   "cell_type": "code",
   "execution_count": 20,
   "outputs": [
    {
     "data": {
      "text/plain": "      Промежуток\nFmax  [1.5, 4.5]\njmax  [0.5, 0.9]\nt05   [3.0, 5.0]\nd(t)    [0.5, 1]",
      "text/html": "<div>\n<style scoped>\n    .dataframe tbody tr th:only-of-type {\n        vertical-align: middle;\n    }\n\n    .dataframe tbody tr th {\n        vertical-align: top;\n    }\n\n    .dataframe thead th {\n        text-align: right;\n    }\n</style>\n<table border=\"1\" class=\"dataframe\">\n  <thead>\n    <tr style=\"text-align: right;\">\n      <th></th>\n      <th>Промежуток</th>\n    </tr>\n  </thead>\n  <tbody>\n    <tr>\n      <th>Fmax</th>\n      <td>[1.5, 4.5]</td>\n    </tr>\n    <tr>\n      <th>jmax</th>\n      <td>[0.5, 0.9]</td>\n    </tr>\n    <tr>\n      <th>t05</th>\n      <td>[3.0, 5.0]</td>\n    </tr>\n    <tr>\n      <th>d(t)</th>\n      <td>[0.5, 1]</td>\n    </tr>\n  </tbody>\n</table>\n</div>"
     },
     "execution_count": 20,
     "metadata": {},
     "output_type": "execute_result"
    }
   ],
   "source": [
    "data_frame2"
   ],
   "metadata": {
    "collapsed": false,
    "pycharm": {
     "name": "#%%\n"
    }
   }
  },
  {
   "cell_type": "code",
   "execution_count": 21,
   "outputs": [
    {
     "data": {
      "text/plain": "   t      R(t)  d0(t)     R1(t)     R2(t)     d1     d2        L1         L  \\\n0  0  0.000000   0.77  0.000000  0.000000  0.716  0.816  0.000000  0.000000   \n1  1  0.042376   0.62  0.038442  0.046866  0.596  0.696  0.022270  0.055173   \n2  2  0.159031   0.54  0.145125  0.174693  0.532  0.632  0.075045  0.180341   \n3  3  0.322740   0.50  0.297282  0.350791  0.500  0.600  0.144479  0.338877   \n4  4  0.499826   0.58  0.465915  0.536060  0.564  0.664  0.255418  0.608789   \n5  5  0.661252   0.65  0.624689  0.698806  0.620  0.720  0.376463  0.902610   \n6  6  0.789612   0.65  0.756150  0.822361  0.620  0.720  0.455686  1.077820   \n7  7  0.880172   0.73  0.853510  0.904821  0.684  0.784  0.567455  1.349304   \n8  8  0.937413   0.85  0.918634  0.953672  0.780  0.880  0.696472  1.673282   \n\n         L2  \n0  0.000000  \n1  0.095586  \n2  0.323534  \n3  0.616774  \n4  1.043058  \n5  1.474402  \n6  1.735089  \n7  2.078767  \n8  2.459283  ",
      "text/html": "<div>\n<style scoped>\n    .dataframe tbody tr th:only-of-type {\n        vertical-align: middle;\n    }\n\n    .dataframe tbody tr th {\n        vertical-align: top;\n    }\n\n    .dataframe thead th {\n        text-align: right;\n    }\n</style>\n<table border=\"1\" class=\"dataframe\">\n  <thead>\n    <tr style=\"text-align: right;\">\n      <th></th>\n      <th>t</th>\n      <th>R(t)</th>\n      <th>d0(t)</th>\n      <th>R1(t)</th>\n      <th>R2(t)</th>\n      <th>d1</th>\n      <th>d2</th>\n      <th>L1</th>\n      <th>L</th>\n      <th>L2</th>\n    </tr>\n  </thead>\n  <tbody>\n    <tr>\n      <th>0</th>\n      <td>0</td>\n      <td>0.000000</td>\n      <td>0.77</td>\n      <td>0.000000</td>\n      <td>0.000000</td>\n      <td>0.716</td>\n      <td>0.816</td>\n      <td>0.000000</td>\n      <td>0.000000</td>\n      <td>0.000000</td>\n    </tr>\n    <tr>\n      <th>1</th>\n      <td>1</td>\n      <td>0.042376</td>\n      <td>0.62</td>\n      <td>0.038442</td>\n      <td>0.046866</td>\n      <td>0.596</td>\n      <td>0.696</td>\n      <td>0.022270</td>\n      <td>0.055173</td>\n      <td>0.095586</td>\n    </tr>\n    <tr>\n      <th>2</th>\n      <td>2</td>\n      <td>0.159031</td>\n      <td>0.54</td>\n      <td>0.145125</td>\n      <td>0.174693</td>\n      <td>0.532</td>\n      <td>0.632</td>\n      <td>0.075045</td>\n      <td>0.180341</td>\n      <td>0.323534</td>\n    </tr>\n    <tr>\n      <th>3</th>\n      <td>3</td>\n      <td>0.322740</td>\n      <td>0.50</td>\n      <td>0.297282</td>\n      <td>0.350791</td>\n      <td>0.500</td>\n      <td>0.600</td>\n      <td>0.144479</td>\n      <td>0.338877</td>\n      <td>0.616774</td>\n    </tr>\n    <tr>\n      <th>4</th>\n      <td>4</td>\n      <td>0.499826</td>\n      <td>0.58</td>\n      <td>0.465915</td>\n      <td>0.536060</td>\n      <td>0.564</td>\n      <td>0.664</td>\n      <td>0.255418</td>\n      <td>0.608789</td>\n      <td>1.043058</td>\n    </tr>\n    <tr>\n      <th>5</th>\n      <td>5</td>\n      <td>0.661252</td>\n      <td>0.65</td>\n      <td>0.624689</td>\n      <td>0.698806</td>\n      <td>0.620</td>\n      <td>0.720</td>\n      <td>0.376463</td>\n      <td>0.902610</td>\n      <td>1.474402</td>\n    </tr>\n    <tr>\n      <th>6</th>\n      <td>6</td>\n      <td>0.789612</td>\n      <td>0.65</td>\n      <td>0.756150</td>\n      <td>0.822361</td>\n      <td>0.620</td>\n      <td>0.720</td>\n      <td>0.455686</td>\n      <td>1.077820</td>\n      <td>1.735089</td>\n    </tr>\n    <tr>\n      <th>7</th>\n      <td>7</td>\n      <td>0.880172</td>\n      <td>0.73</td>\n      <td>0.853510</td>\n      <td>0.904821</td>\n      <td>0.684</td>\n      <td>0.784</td>\n      <td>0.567455</td>\n      <td>1.349304</td>\n      <td>2.078767</td>\n    </tr>\n    <tr>\n      <th>8</th>\n      <td>8</td>\n      <td>0.937413</td>\n      <td>0.85</td>\n      <td>0.918634</td>\n      <td>0.953672</td>\n      <td>0.780</td>\n      <td>0.880</td>\n      <td>0.696472</td>\n      <td>1.673282</td>\n      <td>2.459283</td>\n    </tr>\n  </tbody>\n</table>\n</div>"
     },
     "execution_count": 21,
     "metadata": {},
     "output_type": "execute_result"
    }
   ],
   "source": [
    "data_frame3"
   ],
   "metadata": {
    "collapsed": false,
    "pycharm": {
     "name": "#%%\n"
    }
   }
  },
  {
   "cell_type": "markdown",
   "source": [
    "## Решение задачи. Вариант 2"
   ],
   "metadata": {
    "collapsed": false,
    "pycharm": {
     "name": "#%% md\n"
    }
   }
  },
  {
   "cell_type": "code",
   "execution_count": null,
   "outputs": [],
   "source": [
    "\n",
    "Fmax = 3.3\n",
    "jmax = 0.9\n",
    "t05 = 2.5\n",
    "#months =\n",
    "alpha = 0.75"
   ],
   "metadata": {
    "collapsed": false,
    "pycharm": {
     "name": "#%%\n"
    }
   }
  },
  {
   "cell_type": "code",
   "execution_count": null,
   "outputs": [],
   "source": [],
   "metadata": {
    "collapsed": false,
    "pycharm": {
     "name": "#%%\n"
    }
   }
  }
 ],
 "metadata": {
  "kernelspec": {
   "display_name": "Python 3",
   "language": "python",
   "name": "python3"
  },
  "language_info": {
   "codemirror_mode": {
    "name": "ipython",
    "version": 2
   },
   "file_extension": ".py",
   "mimetype": "text/x-python",
   "name": "python",
   "nbconvert_exporter": "python",
   "pygments_lexer": "ipython2",
   "version": "2.7.6"
  }
 },
 "nbformat": 4,
 "nbformat_minor": 0
}